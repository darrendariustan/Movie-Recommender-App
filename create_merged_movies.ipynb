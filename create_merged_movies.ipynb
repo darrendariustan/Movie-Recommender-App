{
 "cells": [
  {
   "cell_type": "markdown",
   "id": "9d7a9762-a0f0-4b4a-9aee-be347e99c20f",
   "metadata": {
    "tags": []
   },
   "source": [
    "## Creating a Merged Dataframe for the Movies Dataframe\n",
    "\n",
    "Goal of Project: User-Based collaborative filtering.\n",
    "\n",
    "In this notebook, we deploy the following steps to make it easier when we create the model:\n",
    "1. Inspect structure of movies and ratings csv files\n",
    "2. Inspect links.csv and webscrape image_url and extract url\n",
    "3. Create merged dataframe between movies and links dataframe"
   ]
  },
  {
   "cell_type": "markdown",
   "id": "5ad899cd",
   "metadata": {},
   "source": [
    "### 1. Inspect movies and ratings csv files"
   ]
  },
  {
   "cell_type": "code",
   "execution_count": null,
   "id": "b66b5278-a129-4b19-ab4e-cb1edd7599ea",
   "metadata": {},
   "outputs": [],
   "source": [
    "import numpy as np\n",
    "import pandas as pd\n",
    "import pickle"
   ]
  },
  {
   "cell_type": "markdown",
   "id": "1f5660dc-bc76-4385-89fb-4641d2d3eb0f",
   "metadata": {},
   "source": [
    "Load movies dataframe `movies.csv`"
   ]
  },
  {
   "cell_type": "code",
   "execution_count": 3,
   "id": "0db44f0c",
   "metadata": {},
   "outputs": [
    {
     "data": {
      "text/html": [
       "<div>\n",
       "<style scoped>\n",
       "    .dataframe tbody tr th:only-of-type {\n",
       "        vertical-align: middle;\n",
       "    }\n",
       "\n",
       "    .dataframe tbody tr th {\n",
       "        vertical-align: top;\n",
       "    }\n",
       "\n",
       "    .dataframe thead th {\n",
       "        text-align: right;\n",
       "    }\n",
       "</style>\n",
       "<table border=\"1\" class=\"dataframe\">\n",
       "  <thead>\n",
       "    <tr style=\"text-align: right;\">\n",
       "      <th></th>\n",
       "      <th>movieId</th>\n",
       "      <th>title</th>\n",
       "      <th>genres</th>\n",
       "    </tr>\n",
       "  </thead>\n",
       "  <tbody>\n",
       "    <tr>\n",
       "      <th>0</th>\n",
       "      <td>1</td>\n",
       "      <td>Toy Story (1995)</td>\n",
       "      <td>Adventure|Animation|Children|Comedy|Fantasy</td>\n",
       "    </tr>\n",
       "    <tr>\n",
       "      <th>1</th>\n",
       "      <td>2</td>\n",
       "      <td>Jumanji (1995)</td>\n",
       "      <td>Adventure|Children|Fantasy</td>\n",
       "    </tr>\n",
       "    <tr>\n",
       "      <th>2</th>\n",
       "      <td>3</td>\n",
       "      <td>Grumpier Old Men (1995)</td>\n",
       "      <td>Comedy|Romance</td>\n",
       "    </tr>\n",
       "    <tr>\n",
       "      <th>3</th>\n",
       "      <td>4</td>\n",
       "      <td>Waiting to Exhale (1995)</td>\n",
       "      <td>Comedy|Drama|Romance</td>\n",
       "    </tr>\n",
       "    <tr>\n",
       "      <th>4</th>\n",
       "      <td>5</td>\n",
       "      <td>Father of the Bride Part II (1995)</td>\n",
       "      <td>Comedy</td>\n",
       "    </tr>\n",
       "  </tbody>\n",
       "</table>\n",
       "</div>"
      ],
      "text/plain": [
       "   movieId                               title  \\\n",
       "0        1                    Toy Story (1995)   \n",
       "1        2                      Jumanji (1995)   \n",
       "2        3             Grumpier Old Men (1995)   \n",
       "3        4            Waiting to Exhale (1995)   \n",
       "4        5  Father of the Bride Part II (1995)   \n",
       "\n",
       "                                        genres  \n",
       "0  Adventure|Animation|Children|Comedy|Fantasy  \n",
       "1                   Adventure|Children|Fantasy  \n",
       "2                               Comedy|Romance  \n",
       "3                         Comedy|Drama|Romance  \n",
       "4                                       Comedy  "
      ]
     },
     "execution_count": 3,
     "metadata": {},
     "output_type": "execute_result"
    }
   ],
   "source": [
    "movies_df = pd.read_csv('dataset/movies.csv')\n",
    "movies_df.head()"
   ]
  },
  {
   "cell_type": "markdown",
   "id": "09953fdc-a12f-4d60-88cb-9ce97a5b8fa3",
   "metadata": {
    "tags": []
   },
   "source": [
    "Load user's ratings dataframe `ratings.csv`"
   ]
  },
  {
   "cell_type": "code",
   "execution_count": 4,
   "id": "ee747b9e",
   "metadata": {},
   "outputs": [
    {
     "data": {
      "text/html": [
       "<div>\n",
       "<style scoped>\n",
       "    .dataframe tbody tr th:only-of-type {\n",
       "        vertical-align: middle;\n",
       "    }\n",
       "\n",
       "    .dataframe tbody tr th {\n",
       "        vertical-align: top;\n",
       "    }\n",
       "\n",
       "    .dataframe thead th {\n",
       "        text-align: right;\n",
       "    }\n",
       "</style>\n",
       "<table border=\"1\" class=\"dataframe\">\n",
       "  <thead>\n",
       "    <tr style=\"text-align: right;\">\n",
       "      <th></th>\n",
       "      <th>userId</th>\n",
       "      <th>movieId</th>\n",
       "      <th>rating</th>\n",
       "      <th>timestamp</th>\n",
       "    </tr>\n",
       "  </thead>\n",
       "  <tbody>\n",
       "    <tr>\n",
       "      <th>0</th>\n",
       "      <td>1</td>\n",
       "      <td>1</td>\n",
       "      <td>4.0</td>\n",
       "      <td>964982703</td>\n",
       "    </tr>\n",
       "    <tr>\n",
       "      <th>1</th>\n",
       "      <td>1</td>\n",
       "      <td>3</td>\n",
       "      <td>4.0</td>\n",
       "      <td>964981247</td>\n",
       "    </tr>\n",
       "    <tr>\n",
       "      <th>2</th>\n",
       "      <td>1</td>\n",
       "      <td>6</td>\n",
       "      <td>4.0</td>\n",
       "      <td>964982224</td>\n",
       "    </tr>\n",
       "    <tr>\n",
       "      <th>3</th>\n",
       "      <td>1</td>\n",
       "      <td>47</td>\n",
       "      <td>5.0</td>\n",
       "      <td>964983815</td>\n",
       "    </tr>\n",
       "    <tr>\n",
       "      <th>4</th>\n",
       "      <td>1</td>\n",
       "      <td>50</td>\n",
       "      <td>5.0</td>\n",
       "      <td>964982931</td>\n",
       "    </tr>\n",
       "  </tbody>\n",
       "</table>\n",
       "</div>"
      ],
      "text/plain": [
       "   userId  movieId  rating  timestamp\n",
       "0       1        1     4.0  964982703\n",
       "1       1        3     4.0  964981247\n",
       "2       1        6     4.0  964982224\n",
       "3       1       47     5.0  964983815\n",
       "4       1       50     5.0  964982931"
      ]
     },
     "execution_count": 4,
     "metadata": {},
     "output_type": "execute_result"
    }
   ],
   "source": [
    "ratings_df = pd.read_csv('dataset/ratings.csv')\n",
    "ratings_df.head()"
   ]
  },
  {
   "cell_type": "markdown",
   "id": "60ea8fcb-81f5-4544-87b0-97c90f21f2e0",
   "metadata": {
    "tags": []
   },
   "source": [
    "### 2. Inspect links.csv and webscrape image_url and extract url"
   ]
  },
  {
   "cell_type": "code",
   "execution_count": 11,
   "id": "bb3362a2-7cc4-47fc-b6ca-c4a761e1a102",
   "metadata": {},
   "outputs": [],
   "source": [
    "import requests\n",
    "from bs4 import BeautifulSoup\n",
    "from tqdm import tqdm\n",
    "\n",
    "import warnings\n",
    "warnings.filterwarnings('ignore')"
   ]
  },
  {
   "cell_type": "markdown",
   "id": "d4e2b1ba-0545-44dc-adf7-6573f29f4dc6",
   "metadata": {},
   "source": [
    "##### Load links dataframe `links.csv`"
   ]
  },
  {
   "cell_type": "code",
   "execution_count": 13,
   "id": "eb8d2d57-6528-4d06-a0a1-3fe975412f0b",
   "metadata": {},
   "outputs": [
    {
     "data": {
      "text/html": [
       "<div>\n",
       "<style scoped>\n",
       "    .dataframe tbody tr th:only-of-type {\n",
       "        vertical-align: middle;\n",
       "    }\n",
       "\n",
       "    .dataframe tbody tr th {\n",
       "        vertical-align: top;\n",
       "    }\n",
       "\n",
       "    .dataframe thead th {\n",
       "        text-align: right;\n",
       "    }\n",
       "</style>\n",
       "<table border=\"1\" class=\"dataframe\">\n",
       "  <thead>\n",
       "    <tr style=\"text-align: right;\">\n",
       "      <th></th>\n",
       "      <th>movieId</th>\n",
       "      <th>imdbId</th>\n",
       "      <th>tmdbId</th>\n",
       "    </tr>\n",
       "  </thead>\n",
       "  <tbody>\n",
       "    <tr>\n",
       "      <th>0</th>\n",
       "      <td>1</td>\n",
       "      <td>114709</td>\n",
       "      <td>862.0</td>\n",
       "    </tr>\n",
       "    <tr>\n",
       "      <th>1</th>\n",
       "      <td>2</td>\n",
       "      <td>113497</td>\n",
       "      <td>8844.0</td>\n",
       "    </tr>\n",
       "    <tr>\n",
       "      <th>2</th>\n",
       "      <td>3</td>\n",
       "      <td>113228</td>\n",
       "      <td>15602.0</td>\n",
       "    </tr>\n",
       "    <tr>\n",
       "      <th>3</th>\n",
       "      <td>4</td>\n",
       "      <td>114885</td>\n",
       "      <td>31357.0</td>\n",
       "    </tr>\n",
       "    <tr>\n",
       "      <th>4</th>\n",
       "      <td>5</td>\n",
       "      <td>113041</td>\n",
       "      <td>11862.0</td>\n",
       "    </tr>\n",
       "  </tbody>\n",
       "</table>\n",
       "</div>"
      ],
      "text/plain": [
       "   movieId  imdbId   tmdbId\n",
       "0        1  114709    862.0\n",
       "1        2  113497   8844.0\n",
       "2        3  113228  15602.0\n",
       "3        4  114885  31357.0\n",
       "4        5  113041  11862.0"
      ]
     },
     "execution_count": 13,
     "metadata": {},
     "output_type": "execute_result"
    }
   ],
   "source": [
    "# load \n",
    "link_df = pd.read_csv('dataset/links.csv')\n",
    "link_df.head()"
   ]
  },
  {
   "cell_type": "markdown",
   "id": "ef43c494-945e-4b4c-9bb7-32ea6b13954d",
   "metadata": {},
   "source": [
    "Check information of the dataframes"
   ]
  },
  {
   "cell_type": "code",
   "execution_count": 15,
   "id": "8cb354c2-6d7f-4cd5-9377-3c6a47b7c47e",
   "metadata": {},
   "outputs": [
    {
     "name": "stdout",
     "output_type": "stream",
     "text": [
      "<class 'pandas.core.frame.DataFrame'>\n",
      "RangeIndex: 9742 entries, 0 to 9741\n",
      "Data columns (total 3 columns):\n",
      " #   Column   Non-Null Count  Dtype  \n",
      "---  ------   --------------  -----  \n",
      " 0   movieId  9742 non-null   int64  \n",
      " 1   imdbId   9742 non-null   int64  \n",
      " 2   tmdbId   9734 non-null   float64\n",
      "dtypes: float64(1), int64(2)\n",
      "memory usage: 228.5 KB\n"
     ]
    }
   ],
   "source": [
    "link_df.info()"
   ]
  },
  {
   "cell_type": "code",
   "execution_count": 16,
   "id": "b801ee2d-935e-4c3a-b128-d0c93bd28f64",
   "metadata": {},
   "outputs": [],
   "source": [
    "import numpy as np\n",
    "import time\n",
    "import requests\n",
    "from bs4 import BeautifulSoup\n",
    "from tqdm import tqdm\n",
    "from requests.exceptions import RequestException\n"
   ]
  },
  {
   "cell_type": "code",
   "execution_count": null,
   "id": "f4c0d817",
   "metadata": {},
   "outputs": [
    {
     "name": "stderr",
     "output_type": "stream",
     "text": [
      "100%|██████████| 9742/9742 [5:31:56<00:00,  2.04s/it]  \n"
     ]
    }
   ],
   "source": [
    "# Create empty columns with null values\n",
    "link_df['url'] = np.nan\n",
    "link_df['img_url'] = np.nan\n",
    "\n",
    "\n",
    "for idx, tmdbId in tqdm(enumerate(link_df['tmdbId']), total = len(link_df['tmdbId'])):\n",
    "    try:\n",
    "        # Get url\n",
    "        url = 'https://www.themoviedb.org/movie/' + str(tmdbId)\n",
    "        link_df['url'][idx] = url\n",
    "\n",
    "        # assign the response to a object\n",
    "        response = requests.get(url)\n",
    "\n",
    "        # Use BeautifulSoup() to create a BeautifulSoup object from a response text content\n",
    "        soup = BeautifulSoup(response.text, 'html.parser')\n",
    "\n",
    "        # Find image container\n",
    "        obj = soup.find('div', 'image_content backdrop').img\n",
    "\n",
    "        # Get image url\n",
    "        image_url = 'https://www.themoviedb.org' + obj.get('data-src')\n",
    "\n",
    "        # Link image url\n",
    "        link_df['img_url'][idx] = image_url\n",
    "    except AttributeError:\n",
    "        image_url = 'https://www.firstcolonyfoundation.org/wp-content/uploads/2022/01/no-photo-available.jpeg'\n",
    "        link_df['img_url'][idx] = image_url"
   ]
  },
  {
   "cell_type": "markdown",
   "id": "3b06b0dd-f772-42da-ba8f-6384913fc330",
   "metadata": {},
   "source": [
    "##### Save link_df"
   ]
  },
  {
   "cell_type": "code",
   "execution_count": 22,
   "id": "086db2a0-594e-45bd-9bea-0459eaac32b4",
   "metadata": {},
   "outputs": [],
   "source": [
    "# Save link_df\n",
    "link_df.to_csv('output_data/link_df.csv', index=False)"
   ]
  },
  {
   "cell_type": "markdown",
   "id": "bed74c7d-b456-4336-b063-59f9a44f1ab0",
   "metadata": {},
   "source": [
    "#### Load links dataframe ratings.csv"
   ]
  },
  {
   "cell_type": "code",
   "execution_count": 23,
   "id": "523d5fd5-cfb1-49f4-8ea7-4e12e3471c1c",
   "metadata": {},
   "outputs": [
    {
     "data": {
      "text/html": [
       "<div>\n",
       "<style scoped>\n",
       "    .dataframe tbody tr th:only-of-type {\n",
       "        vertical-align: middle;\n",
       "    }\n",
       "\n",
       "    .dataframe tbody tr th {\n",
       "        vertical-align: top;\n",
       "    }\n",
       "\n",
       "    .dataframe thead th {\n",
       "        text-align: right;\n",
       "    }\n",
       "</style>\n",
       "<table border=\"1\" class=\"dataframe\">\n",
       "  <thead>\n",
       "    <tr style=\"text-align: right;\">\n",
       "      <th></th>\n",
       "      <th>movieId</th>\n",
       "      <th>imdbId</th>\n",
       "      <th>tmdbId</th>\n",
       "      <th>url</th>\n",
       "      <th>img_url</th>\n",
       "    </tr>\n",
       "  </thead>\n",
       "  <tbody>\n",
       "    <tr>\n",
       "      <th>0</th>\n",
       "      <td>1</td>\n",
       "      <td>114709</td>\n",
       "      <td>862.0</td>\n",
       "      <td>https://www.themoviedb.org/movie/862.0</td>\n",
       "      <td>https://www.themoviedb.org/t/p/w300_and_h450_b...</td>\n",
       "    </tr>\n",
       "    <tr>\n",
       "      <th>1</th>\n",
       "      <td>2</td>\n",
       "      <td>113497</td>\n",
       "      <td>8844.0</td>\n",
       "      <td>https://www.themoviedb.org/movie/8844.0</td>\n",
       "      <td>https://www.themoviedb.org/t/p/w300_and_h450_b...</td>\n",
       "    </tr>\n",
       "    <tr>\n",
       "      <th>2</th>\n",
       "      <td>3</td>\n",
       "      <td>113228</td>\n",
       "      <td>15602.0</td>\n",
       "      <td>https://www.themoviedb.org/movie/15602.0</td>\n",
       "      <td>https://www.themoviedb.org/t/p/w300_and_h450_b...</td>\n",
       "    </tr>\n",
       "  </tbody>\n",
       "</table>\n",
       "</div>"
      ],
      "text/plain": [
       "   movieId  imdbId   tmdbId                                       url  \\\n",
       "0        1  114709    862.0    https://www.themoviedb.org/movie/862.0   \n",
       "1        2  113497   8844.0   https://www.themoviedb.org/movie/8844.0   \n",
       "2        3  113228  15602.0  https://www.themoviedb.org/movie/15602.0   \n",
       "\n",
       "                                             img_url  \n",
       "0  https://www.themoviedb.org/t/p/w300_and_h450_b...  \n",
       "1  https://www.themoviedb.org/t/p/w300_and_h450_b...  \n",
       "2  https://www.themoviedb.org/t/p/w300_and_h450_b...  "
      ]
     },
     "execution_count": 23,
     "metadata": {},
     "output_type": "execute_result"
    }
   ],
   "source": [
    "links_df = pd.read_csv('output_data/link_df.csv')\n",
    "links_df.head(3)"
   ]
  },
  {
   "cell_type": "markdown",
   "id": "53ce4185-92e3-414e-b0c8-6ba05d3c4fcd",
   "metadata": {},
   "source": [
    "### 3. Merge movies and links csv on the 'movieId' column"
   ]
  },
  {
   "cell_type": "code",
   "execution_count": 24,
   "id": "9a619a81-168f-44ec-9d45-fa4c197f950a",
   "metadata": {},
   "outputs": [
    {
     "data": {
      "text/html": [
       "<div>\n",
       "<style scoped>\n",
       "    .dataframe tbody tr th:only-of-type {\n",
       "        vertical-align: middle;\n",
       "    }\n",
       "\n",
       "    .dataframe tbody tr th {\n",
       "        vertical-align: top;\n",
       "    }\n",
       "\n",
       "    .dataframe thead th {\n",
       "        text-align: right;\n",
       "    }\n",
       "</style>\n",
       "<table border=\"1\" class=\"dataframe\">\n",
       "  <thead>\n",
       "    <tr style=\"text-align: right;\">\n",
       "      <th></th>\n",
       "      <th>movieId</th>\n",
       "      <th>title</th>\n",
       "      <th>genres</th>\n",
       "      <th>imdbId</th>\n",
       "      <th>tmdbId</th>\n",
       "      <th>url</th>\n",
       "      <th>img_url</th>\n",
       "    </tr>\n",
       "  </thead>\n",
       "  <tbody>\n",
       "    <tr>\n",
       "      <th>0</th>\n",
       "      <td>1</td>\n",
       "      <td>Toy Story (1995)</td>\n",
       "      <td>Adventure|Animation|Children|Comedy|Fantasy</td>\n",
       "      <td>114709</td>\n",
       "      <td>862.0</td>\n",
       "      <td>https://www.themoviedb.org/movie/862.0</td>\n",
       "      <td>https://www.themoviedb.org/t/p/w300_and_h450_b...</td>\n",
       "    </tr>\n",
       "    <tr>\n",
       "      <th>1</th>\n",
       "      <td>2</td>\n",
       "      <td>Jumanji (1995)</td>\n",
       "      <td>Adventure|Children|Fantasy</td>\n",
       "      <td>113497</td>\n",
       "      <td>8844.0</td>\n",
       "      <td>https://www.themoviedb.org/movie/8844.0</td>\n",
       "      <td>https://www.themoviedb.org/t/p/w300_and_h450_b...</td>\n",
       "    </tr>\n",
       "    <tr>\n",
       "      <th>2</th>\n",
       "      <td>3</td>\n",
       "      <td>Grumpier Old Men (1995)</td>\n",
       "      <td>Comedy|Romance</td>\n",
       "      <td>113228</td>\n",
       "      <td>15602.0</td>\n",
       "      <td>https://www.themoviedb.org/movie/15602.0</td>\n",
       "      <td>https://www.themoviedb.org/t/p/w300_and_h450_b...</td>\n",
       "    </tr>\n",
       "  </tbody>\n",
       "</table>\n",
       "</div>"
      ],
      "text/plain": [
       "   movieId                    title  \\\n",
       "0        1         Toy Story (1995)   \n",
       "1        2           Jumanji (1995)   \n",
       "2        3  Grumpier Old Men (1995)   \n",
       "\n",
       "                                        genres  imdbId   tmdbId  \\\n",
       "0  Adventure|Animation|Children|Comedy|Fantasy  114709    862.0   \n",
       "1                   Adventure|Children|Fantasy  113497   8844.0   \n",
       "2                               Comedy|Romance  113228  15602.0   \n",
       "\n",
       "                                        url  \\\n",
       "0    https://www.themoviedb.org/movie/862.0   \n",
       "1   https://www.themoviedb.org/movie/8844.0   \n",
       "2  https://www.themoviedb.org/movie/15602.0   \n",
       "\n",
       "                                             img_url  \n",
       "0  https://www.themoviedb.org/t/p/w300_and_h450_b...  \n",
       "1  https://www.themoviedb.org/t/p/w300_and_h450_b...  \n",
       "2  https://www.themoviedb.org/t/p/w300_and_h450_b...  "
      ]
     },
     "execution_count": 24,
     "metadata": {},
     "output_type": "execute_result"
    }
   ],
   "source": [
    "merged_df = pd.merge(movies_df, links_df, on='movieId')\n",
    "merged_df.head(3)"
   ]
  },
  {
   "cell_type": "code",
   "execution_count": null,
   "id": "ca824a9a-d97b-4560-a3d3-1c1fcf2853b7",
   "metadata": {},
   "outputs": [],
   "source": [
    "# Save merged_df to merged_movies.csv\n",
    "merged_df.to_csv('output_data/merged_movies.csv', index=False)"
   ]
  },
  {
   "cell_type": "code",
   "execution_count": 1,
   "id": "84f782e7",
   "metadata": {},
   "outputs": [
    {
     "data": {
      "text/plain": [
       "movieId    0\n",
       "title      0\n",
       "genres     0\n",
       "imdbId     0\n",
       "tmdbId     8\n",
       "url        0\n",
       "img_url    0\n",
       "dtype: int64"
      ]
     },
     "execution_count": 1,
     "metadata": {},
     "output_type": "execute_result"
    }
   ],
   "source": [
    "\n",
    "merged_df.isnull().sum()"
   ]
  }
 ],
 "metadata": {
  "kernelspec": {
   "display_name": "tf-env",
   "language": "python",
   "name": "python3"
  },
  "language_info": {
   "codemirror_mode": {
    "name": "ipython",
    "version": 3
   },
   "file_extension": ".py",
   "mimetype": "text/x-python",
   "name": "python",
   "nbconvert_exporter": "python",
   "pygments_lexer": "ipython3",
   "version": "3.10.16"
  }
 },
 "nbformat": 4,
 "nbformat_minor": 5
}
